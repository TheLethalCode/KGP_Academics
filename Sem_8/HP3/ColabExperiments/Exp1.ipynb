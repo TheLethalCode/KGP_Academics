{
  "nbformat": 4,
  "nbformat_minor": 0,
  "metadata": {
    "colab": {
      "name": "Exp1.ipynb",
      "provenance": [],
      "collapsed_sections": []
    },
    "kernelspec": {
      "name": "python3",
      "display_name": "Python 3"
    },
    "accelerator": "GPU"
  },
  "cells": [
    {
      "cell_type": "code",
      "metadata": {
        "colab": {
          "base_uri": "https://localhost:8080/"
        },
        "id": "3GrBJuCM-n_i",
        "outputId": "2c637dce-64db-431e-be8f-f8a551eeb7f0"
      },
      "source": [
        "!nvcc --version"
      ],
      "execution_count": 1,
      "outputs": [
        {
          "output_type": "stream",
          "text": [
            "nvcc: NVIDIA (R) Cuda compiler driver\n",
            "Copyright (c) 2005-2020 NVIDIA Corporation\n",
            "Built on Wed_Jul_22_19:09:09_PDT_2020\n",
            "Cuda compilation tools, release 11.0, V11.0.221\n",
            "Build cuda_11.0_bu.TC445_37.28845127_0\n"
          ],
          "name": "stdout"
        }
      ]
    },
    {
      "cell_type": "code",
      "metadata": {
        "colab": {
          "base_uri": "https://localhost:8080/"
        },
        "id": "Io_68Ian-7kB",
        "outputId": "8a16fb22-8e05-4de3-ed51-5e41db61b163"
      },
      "source": [
        "!pip install git+git://github.com/andreinechaev/nvcc4jupyter.git"
      ],
      "execution_count": 2,
      "outputs": [
        {
          "output_type": "stream",
          "text": [
            "Collecting git+git://github.com/andreinechaev/nvcc4jupyter.git\n",
            "  Cloning git://github.com/andreinechaev/nvcc4jupyter.git to /tmp/pip-req-build-veor47_u\n",
            "  Running command git clone -q git://github.com/andreinechaev/nvcc4jupyter.git /tmp/pip-req-build-veor47_u\n",
            "Building wheels for collected packages: NVCCPlugin\n",
            "  Building wheel for NVCCPlugin (setup.py) ... \u001b[?25l\u001b[?25hdone\n",
            "  Created wheel for NVCCPlugin: filename=NVCCPlugin-0.0.2-cp37-none-any.whl size=4307 sha256=65610b41f01f86fe90a080ef7ce4e2d76ca659db7678d7c21ae470baabfba7f4\n",
            "  Stored in directory: /tmp/pip-ephem-wheel-cache-nygx10al/wheels/10/c2/05/ca241da37bff77d60d31a9174f988109c61ba989e4d4650516\n",
            "Successfully built NVCCPlugin\n",
            "Installing collected packages: NVCCPlugin\n",
            "Successfully installed NVCCPlugin-0.0.2\n"
          ],
          "name": "stdout"
        }
      ]
    },
    {
      "cell_type": "code",
      "metadata": {
        "colab": {
          "base_uri": "https://localhost:8080/"
        },
        "id": "QAusvIBi_0jA",
        "outputId": "5b5367a0-4d7a-49d5-f4f3-45153dd95a9c"
      },
      "source": [
        "%load_ext nvcc_plugin"
      ],
      "execution_count": 3,
      "outputs": [
        {
          "output_type": "stream",
          "text": [
            "created output directory at /content/src\n",
            "Out bin /content/result.out\n"
          ],
          "name": "stdout"
        }
      ]
    },
    {
      "cell_type": "code",
      "metadata": {
        "colab": {
          "base_uri": "https://localhost:8080/"
        },
        "id": "KBL7VNKpUPzl",
        "outputId": "e6d6f1a1-6d92-4185-b3bb-55175aeaef63"
      },
      "source": [
        "%cd src"
      ],
      "execution_count": 4,
      "outputs": [
        {
          "output_type": "stream",
          "text": [
            "/content/src\n"
          ],
          "name": "stdout"
        }
      ]
    },
    {
      "cell_type": "code",
      "metadata": {
        "colab": {
          "base_uri": "https://localhost:8080/",
          "height": 35
        },
        "id": "5vGC5UYPAjQb",
        "outputId": "744db2aa-9c8a-4300-d68d-b891418ebb7b"
      },
      "source": [
        "%%cuda --name core.h\n",
        "#include<cuda.h>\n",
        "#include<cuda_runtime.h>\n",
        "\n",
        "bool cudaCheck(cudaError_t);\n",
        "void DeviceProp();\n",
        "\n",
        "cudaEvent_t start, stop;"
      ],
      "execution_count": 5,
      "outputs": [
        {
          "output_type": "execute_result",
          "data": {
            "application/vnd.google.colaboratory.intrinsic+json": {
              "type": "string"
            },
            "text/plain": [
              "'File written in /content/src/core.h'"
            ]
          },
          "metadata": {
            "tags": []
          },
          "execution_count": 5
        }
      ]
    },
    {
      "cell_type": "code",
      "metadata": {
        "colab": {
          "base_uri": "https://localhost:8080/",
          "height": 35
        },
        "id": "XPqAQS3nMHHs",
        "outputId": "0c729075-6e4a-45ca-ca71-fe924c65b2a9"
      },
      "source": [
        "%%cuda --name core.cu\n",
        "#include <iostream>\n",
        "using namespace std;\n",
        "\n",
        "bool cudaCheck(cudaError_t err) {\n",
        "    if (err != cudaSuccess) {\n",
        "        cerr << \"Code Failed due to \" << cudaGetErrorString(err) << endl;\n",
        "        exit(EXIT_FAILURE);\n",
        "    }\n",
        "    return true;   \n",
        "}\n",
        "\n",
        "void printProp(cudaDeviceProp devP) {\n",
        "    cout << \"Name: \" << devP.name << endl;\n",
        "    cout << \"\\tTotal Global Memory: \" << devP.totalGlobalMem << endl;\n",
        "    cout << \"\\tShared Memory per Block: \" << devP.sharedMemPerBlock << endl;\n",
        "    cout << \"\\tWarp Size: \" << devP.warpSize << endl;\n",
        "    cout << \"\\tMax Threads per Block: \" << devP.maxThreadsPerBlock << endl;\n",
        "    for (int i = 0; i < 3; i++) {\n",
        "        cout << \"\\tMax of dimension \" << i << \" of block: \" << devP.maxThreadsDim[i] << endl;\n",
        "    }\n",
        "    for (int i = 0; i < 3; i++) {\n",
        "         cout << \"\\tMax of dimension \" << i << \" of grid: \" << devP.maxGridSize[i] << endl;\n",
        "    }\n",
        "    cout << \"\\tNumber of multiprocessors: \" << devP.multiProcessorCount << endl;\n",
        "}\n",
        "\n",
        "void DeviceProp() {\n",
        "    int devCount ;\n",
        "    cudaGetDeviceCount(&devCount) ;\n",
        "    for (int i = 0; i < devCount ; ++i) {\n",
        "        cudaDeviceProp devP;\n",
        "        cudaGetDeviceProperties(&devP, i);\n",
        "        printProp(devP);\n",
        "    }\n",
        "}"
      ],
      "execution_count": 7,
      "outputs": [
        {
          "output_type": "execute_result",
          "data": {
            "application/vnd.google.colaboratory.intrinsic+json": {
              "type": "string"
            },
            "text/plain": [
              "'File written in /content/src/core.cu'"
            ]
          },
          "metadata": {
            "tags": []
          },
          "execution_count": 7
        }
      ]
    },
    {
      "cell_type": "code",
      "metadata": {
        "colab": {
          "base_uri": "https://localhost:8080/",
          "height": 35
        },
        "id": "2V5jvqZILq8-",
        "outputId": "bdfb5520-6d3a-48e8-c496-a9c756bc97fb"
      },
      "source": [
        "%%cuda --name exp1.cu\n",
        "#include \"core.h\"\n",
        "#include <stdlib.h>\n",
        "#include <iostream>\n",
        "using namespace std;\n",
        "\n",
        "#define RANGE 100\n",
        "\n",
        "__global__ void kernel1(float *A, float *C, int n) {\n",
        "    int id = threadIdx.x + blockIdx.x * blockDim.x;\n",
        "    if (id < n) {\n",
        "        C[id] = A[id];\n",
        "    }\n",
        "}\n",
        "\n",
        "__global__ void kernel2(float *A, float *C, int n, int s = 17) {\n",
        "    int id = threadIdx.x + blockIdx.x * blockDim.x;\n",
        "    if (id < n) {\n",
        "        C[id] = s * A[id];\n",
        "    }\n",
        "}\n",
        "\n",
        "__global__ void kernel3(float *A, float *B, float *C, int n) {\n",
        "    int id = threadIdx.x + blockIdx.x * blockDim.x;\n",
        "    if (id < n) {\n",
        "        C[id] = A[id] + B[id];\n",
        "    }\n",
        "}\n",
        "\n",
        "__global__ void kernel4(float *A, float *B, float *C, int n) {\n",
        "    int id = threadIdx.x + blockIdx.x * blockDim.x;\n",
        "    if (id < n) {\n",
        "        C[id] = sin(A[id]) + cos(B[id]);\n",
        "    }\n",
        "}\n",
        "\n",
        "int main(int argc, char* argv[]) {\n",
        "    cudaEventCreate(&start);\n",
        "    cudaEventCreate(&stop);\n",
        "    DeviceProp();\n",
        "    srand((unsigned)time(0));\n",
        "\n",
        "    int n = atoi(argv[1]), numThreads = atoi(argv[2]);\n",
        "    float *A, *B, *C;\n",
        "    A = (float *)malloc(n * sizeof(float));\n",
        "    B = (float *)malloc(n * sizeof(float));\n",
        "    C = (float *)malloc(n * sizeof(float));\n",
        "    for (int i = 0; i < n; i++) {\n",
        "        A[i] = (float)rand() * RANGE / RAND_MAX;\n",
        "        B[i] = (float)rand() * RANGE / RAND_MAX; \n",
        "    }\n",
        "    cout << \"Generated \" << n << \" elements\" << endl;\n",
        "\n",
        "    float *devA, *devB, *devC;\n",
        "    if (cudaCheck(cudaMalloc((void **)&devA, sizeof(float) * n))) {\n",
        "        cout << \"Allocated device memory for A: \" << endl;\n",
        "    }\n",
        "    if (cudaCheck(cudaMalloc((void **)&devB, sizeof(float) * n))) {\n",
        "        cout << \"Allocated device memory for B: \" << endl;\n",
        "    }\n",
        "    if (cudaCheck(cudaMalloc((void **)&devC, sizeof(float) * n))) {\n",
        "        cout << \"Allocated device memory for C: \" << endl;\n",
        "    }\n",
        "\n",
        "    if (cudaCheck(cudaMemcpy(devA, A, n * sizeof(float), cudaMemcpyHostToDevice))) {\n",
        "        cout << \"Copied array A to device \" << endl;\n",
        "    }\n",
        "    if (cudaCheck(cudaMemcpy(devB, B, n * sizeof(float), cudaMemcpyHostToDevice))) {\n",
        "        cout << \"Copied array B to device \" << endl;\n",
        "    }\n",
        "\n",
        "    int blocks = (n + numThreads - 1) / numThreads;\n",
        "    cudaEventRecord(start);\n",
        "    kernel4<<< blocks, numThreads >>>(devA, devB, devC, n);\n",
        "    cudaEventRecord(stop);\n",
        "    cudaCheck(cudaPeekAtLastError());\n",
        "\n",
        "    if (cudaCheck(cudaMemcpy(C, devC, n * sizeof(float), cudaMemcpyDeviceToHost))) {\n",
        "        cout << \"Copied result to array C \" << endl;\n",
        "    }\n",
        "    cudaEventSynchronize(stop);\n",
        "\n",
        "    float time = 0;\n",
        "    cudaEventElapsedTime(&time, start, stop);\n",
        "    cout << \"Elapsed Time (in ms): \" << time << endl;\n",
        "}"
      ],
      "execution_count": 230,
      "outputs": [
        {
          "output_type": "execute_result",
          "data": {
            "application/vnd.google.colaboratory.intrinsic+json": {
              "type": "string"
            },
            "text/plain": [
              "'File written in /content/src/exp1.cu'"
            ]
          },
          "metadata": {
            "tags": []
          },
          "execution_count": 230
        }
      ]
    },
    {
      "cell_type": "code",
      "metadata": {
        "id": "POESRrdKUu0j"
      },
      "source": [
        "!nvcc exp1.cu core.cu -o exp1"
      ],
      "execution_count": 231,
      "outputs": []
    },
    {
      "cell_type": "code",
      "metadata": {
        "colab": {
          "base_uri": "https://localhost:8080/"
        },
        "id": "xv0uWS3FYoAW",
        "outputId": "8cf2a83b-3ff5-4957-e02f-c53f0dc41972"
      },
      "source": [
        "!./exp1 800000 128"
      ],
      "execution_count": 287,
      "outputs": [
        {
          "output_type": "stream",
          "text": [
            "Name: Tesla T4\n",
            "\tTotal Global Memory: 15843721216\n",
            "\tShared Memory per Block: 49152\n",
            "\tWarp Size: 32\n",
            "\tMax Threads per Block: 1024\n",
            "\tMax of dimension 0 of block: 1024\n",
            "\tMax of dimension 1 of block: 1024\n",
            "\tMax of dimension 2 of block: 64\n",
            "\tMax of dimension 0 of grid: 2147483647\n",
            "\tMax of dimension 1 of grid: 65535\n",
            "\tMax of dimension 2 of grid: 65535\n",
            "\tNumber of multiprocessors: 40\n",
            "Generated 800000 elements\n",
            "Allocated device memory for A: \n",
            "Allocated device memory for B: \n",
            "Allocated device memory for C: \n",
            "Copied array A to device \n",
            "Copied array B to device \n",
            "Copied result to array C \n",
            "Elapsed Time (in ms): 0.06176\n"
          ],
          "name": "stdout"
        }
      ]
    },
    {
      "cell_type": "code",
      "metadata": {
        "id": "3L8uJ9Rgl4My"
      },
      "source": [
        ""
      ],
      "execution_count": null,
      "outputs": []
    }
  ]
}